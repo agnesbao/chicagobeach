{
 "cells": [
  {
   "cell_type": "markdown",
   "metadata": {},
   "source": [
    "# Chicago Beach Data in Python\n",
    "\n",
    "## A data science practice"
   ]
  },
  {
   "cell_type": "markdown",
   "metadata": {},
   "source": [
    "Chicago has 27 public beaches, along 26 miles of the city's lakefront shoreline, managed by the Chicago Park District.\n",
    "<br> Here are the beach locations:\n",
    "![Chicago Beach Locations](https://github.com/agnesbao/chicagobeach/blob/master/Ecoli_test_locations.png?raw=true)\n",
    "\n",
    "The City of Chicago provides the public with beach water quality data and weather data hour by hour from several sensors during the summer. \n",
    "\n",
    "The water quality data is available at https://data.cityofchicago.org/Parks-Recreation/Beach-Water-Quality-Automated-Sensors/qmqz-2xku. \n",
    "\n",
    "The weather data is available at https://data.cityofchicago.org/Parks-Recreation/Beach-Weather-Stations-Automated-Sensors/k7hf-8y75.\n",
    "\n",
    "Here are the locations of the water and weather sensors:\n",
    "![](https://github.com/agnesbao/chicagobeach/blob/master/sensor_locations.png?raw=true)\n",
    "\n",
    "Let's take a look at the beach water data first.\n",
    "Using the website's API, we can grab all data points:"
   ]
  },
  {
   "cell_type": "code",
   "execution_count": 1,
   "metadata": {
    "collapsed": true
   },
   "outputs": [],
   "source": [
    "# import packages\n",
    "import requests\n",
    "import pandas as pd\n",
    "import numpy as np\n",
    "import matplotlib.pyplot as plt\n",
    "from scipy.stats import pearsonr\n",
    "from sklearn.linear_model import LinearRegression"
   ]
  },
  {
   "cell_type": "code",
   "execution_count": 2,
   "metadata": {},
   "outputs": [
    {
     "name": "stdout",
     "output_type": "stream",
     "text": [
      "<class 'pandas.core.frame.DataFrame'>\n",
      "Int64Index: 34917 entries, 0 to 34922\n",
      "Data columns (total 10 columns):\n",
      "battery_life                   34917 non-null object\n",
      "beach_name                     34917 non-null object\n",
      "measurement_id                 34917 non-null object\n",
      "measurement_timestamp          34917 non-null object\n",
      "measurement_timestamp_label    34917 non-null object\n",
      "transducer_depth               10034 non-null object\n",
      "turbidity                      34917 non-null object\n",
      "water_temperature              34917 non-null object\n",
      "wave_height                    34690 non-null object\n",
      "wave_period                    34690 non-null object\n",
      "dtypes: object(10)\n",
      "memory usage: 2.9+ MB\n"
     ]
    }
   ],
   "source": [
    "# fetch data from API\n",
    "def request_data(url):\n",
    "    response = requests.get(url)\n",
    "    if response.status_code == 200:\n",
    "        data = response.json()\n",
    "    return pd.DataFrame(data)\n",
    "\n",
    "water_url = \"https://data.cityofchicago.org/resource/46rk-hgnz.json?$limit=50000\"\n",
    "water_df = request_data(water_url)\n",
    "water_df = water_df.dropna(subset=['measurement_timestamp'])\n",
    "water_df.info()"
   ]
  },
  {
   "cell_type": "markdown",
   "metadata": {},
   "source": [
    "The water sensor measures: 'turbidity', which is the key measurement of water quality, higher number means the water is more cloudy. In addition, there is 'water_temperature, 'wave_height' and 'wave_period'.\n",
    "<br> The data starts from May 2014. \n",
    "<br> Let's look at which sensors are giving out readings each year."
   ]
  },
  {
   "cell_type": "code",
   "execution_count": 3,
   "metadata": {},
   "outputs": [
    {
     "name": "stdout",
     "output_type": "stream",
     "text": [
      "2013: \n",
      "['Montrose Beach' 'Osterman Beach' 'Ohio Street Beach' 'Calumet Beach'\n",
      " '63rd Street Beach']\n",
      "2014: \n",
      "['Rainbow Beach' 'Calumet Beach' 'Montrose Beach' 'Ohio Street Beach'\n",
      " '63rd Street Beach' 'Osterman Beach']\n",
      "2015: \n",
      "['Rainbow Beach' 'Ohio Street Beach' '63rd Street Beach' 'Calumet Beach'\n",
      " 'Montrose Beach' 'Osterman Beach']\n",
      "2016: \n",
      "['Ohio Street Beach' 'Montrose Beach' 'Calumet Beach']\n",
      "2017: \n",
      "['Ohio Street Beach']\n"
     ]
    }
   ],
   "source": [
    "water_df.index = pd.DatetimeIndex(water_df.measurement_timestamp)\n",
    "water_df = water_df.sort_index()\n",
    "for yr in water_df.index.year.unique():\n",
    "    print(str(yr)+': ')\n",
    "    print(water_df.beach_name[water_df.index.year==yr].unique())"
   ]
  },
  {
   "cell_type": "markdown",
   "metadata": {},
   "source": [
    "Oh no, looks like the sensors are dying off. Only the one at Ohio Street Beach is still alive this year.\n",
    "\n",
    "How about the weather data?"
   ]
  },
  {
   "cell_type": "code",
   "execution_count": 4,
   "metadata": {},
   "outputs": [
    {
     "name": "stdout",
     "output_type": "stream",
     "text": [
      "<class 'pandas.core.frame.DataFrame'>\n",
      "Int64Index: 56760 entries, 0 to 56762\n",
      "Data columns (total 18 columns):\n",
      "air_temperature                56685 non-null object\n",
      "barometric_pressure            56614 non-null object\n",
      "battery_life                   56760 non-null object\n",
      "heading                        37287 non-null object\n",
      "humidity                       56760 non-null object\n",
      "interval_rain                  56760 non-null object\n",
      "maximum_wind_speed             56760 non-null object\n",
      "measurement_id                 56760 non-null object\n",
      "measurement_timestamp          56760 non-null object\n",
      "measurement_timestamp_label    56760 non-null object\n",
      "precipitation_type             37287 non-null object\n",
      "rain_intensity                 37287 non-null object\n",
      "solar_radiation                56760 non-null object\n",
      "station_name                   56760 non-null object\n",
      "total_rain                     37287 non-null object\n",
      "wet_bulb_temperature           37287 non-null object\n",
      "wind_direction                 56760 non-null object\n",
      "wind_speed                     56760 non-null object\n",
      "dtypes: object(18)\n",
      "memory usage: 8.2+ MB\n"
     ]
    }
   ],
   "source": [
    "weather_url = 'https://data.cityofchicago.org/resource/77jv-5zb8.json?$limit=60000'\n",
    "weather_df = request_data(weather_url)\n",
    "weather_df = weather_df.dropna(subset=['measurement_timestamp'])\n",
    "weather_df.info()"
   ]
  },
  {
   "cell_type": "markdown",
   "metadata": {},
   "source": [
    "Are all weather sensors giving readings?"
   ]
  },
  {
   "cell_type": "code",
   "execution_count": 5,
   "metadata": {},
   "outputs": [
    {
     "name": "stdout",
     "output_type": "stream",
     "text": [
      "2015: \n",
      "['63rd Street Weather Station' 'Oak Street Weather Station'\n",
      " 'Foster Weather Station']\n",
      "2016: \n",
      "['63rd Street Weather Station' 'Foster Weather Station'\n",
      " 'Oak Street Weather Station']\n",
      "2017: \n",
      "['63rd Street Weather Station' 'Oak Street Weather Station'\n",
      " 'Foster Weather Station']\n"
     ]
    }
   ],
   "source": [
    "weather_df.index=pd.DatetimeIndex(weather_df.measurement_timestamp)\n",
    "weather_df = weather_df.sort_index()\n",
    "for yr in weather_df.index.year.unique():\n",
    "    print(str(yr)+': ')\n",
    "    print(weather_df.station_name[weather_df.index.year==yr].unique())"
   ]
  },
  {
   "cell_type": "markdown",
   "metadata": {
    "collapsed": true
   },
   "source": [
    "In order to monitor swimming safety, the city also tests for E.coli from all 27 beach locations. The E.coli lab data is available here: https://data.cityofchicago.org/Parks-Recreation/Beach-Lab-Data/2ivx-z93u\n",
    "<br>Let's get the lab data."
   ]
  },
  {
   "cell_type": "code",
   "execution_count": 6,
   "metadata": {},
   "outputs": [
    {
     "name": "stdout",
     "output_type": "stream",
     "text": [
      "<class 'pandas.core.frame.DataFrame'>\n",
      "RangeIndex: 20264 entries, 0 to 20263\n",
      "Data columns (total 16 columns):\n",
      "beach                         20264 non-null object\n",
      "culture_reading_mean          17964 non-null object\n",
      "culture_sample_1_reading      17906 non-null object\n",
      "culture_sample_1_timestamp    18003 non-null object\n",
      "culture_sample_2_reading      17854 non-null object\n",
      "culture_sample_2_timestamp    1516 non-null object\n",
      "culture_sample_interval       1516 non-null object\n",
      "culture_test_id               18003 non-null object\n",
      "dna_reading_mean              2936 non-null object\n",
      "dna_sample_1_reading          2936 non-null object\n",
      "dna_sample_2_reading          2912 non-null object\n",
      "dna_sample_timestamp          2936 non-null object\n",
      "dna_test_id                   2936 non-null object\n",
      "latitude                      17219 non-null object\n",
      "location                      17219 non-null object\n",
      "longitude                     17219 non-null object\n",
      "dtypes: object(16)\n",
      "memory usage: 2.5+ MB\n"
     ]
    }
   ],
   "source": [
    "lab_url = \"https://data.cityofchicago.org/resource/awhh-mb2r.json?$limit=50000\"\n",
    "lab_df = request_data(lab_url)\n",
    "# some dates show the year as 0016, which should be 2016\n",
    "def fix_date(date_str):\n",
    "    if type(date_str)==str:\n",
    "        return date_str.replace('0016','2016')\n",
    "lab_df.culture_sample_1_timestamp = lab_df.culture_sample_1_timestamp.apply(fix_date)\n",
    "lab_df.info()"
   ]
  },
  {
   "cell_type": "markdown",
   "metadata": {},
   "source": [
    "This dataset contains readings from two E.coli testing techniques. From 2006-2016 they were using culture based testing, a slower technique which takes 18-24hrs.  Since 2015 they gradually switched to DNA testing, which only takes a few hours, but is also more expensive. All beaches had culture reading untill 2016. In 2017 the tests switched completely to DNA testing. \n",
    "<br> In the data set there are 675 samples that were tested by both techniques. We can use those data to see whether the two techniques are consistent with each other."
   ]
  },
  {
   "cell_type": "code",
   "execution_count": 7,
   "metadata": {},
   "outputs": [
    {
     "name": "stdout",
     "output_type": "stream",
     "text": [
      "correlation: r=0.649365661046; p=4.41649895911e-82\n"
     ]
    },
    {
     "data": {
      "image/png": "[encoded data removed]",
      "text/plain": [
       "<matplotlib.figure.Figure at 0x157c0048>"
      ]
     },
     "metadata": {},
     "output_type": "display_data"
    }
   ],
   "source": [
    "# dataset with both culture and dna\n",
    "culture_dna = lab_df.dropna(subset=['dna_reading_mean','culture_reading_mean'])\n",
    "culture_reading = np.log10(culture_dna.culture_reading_mean.astype(float))\n",
    "dna_reading = np.log10(culture_dna.dna_reading_mean.astype(float))\n",
    "# threshold for red flag \n",
    "culture_thresh = np.log10(235)\n",
    "dna_thresh = np.log10(1000)\n",
    "# calculate the correlation between culture test and dna test\n",
    "(r,p) = pearsonr(culture_reading, dna_reading)\n",
    "print('correlation: r='+str(r)+'; p='+str(p))\n",
    "# plotting the relationship between the two testings\n",
    "X = culture_reading.values.reshape(-1,1)\n",
    "y = dna_reading.values.reshape(-1,1)\n",
    "regr = LinearRegression()\n",
    "regr.fit(X,y)\n",
    "fit_space = np.linspace(min(X), max(X),2).reshape(-1,1)\n",
    "y_fit = regr.predict(fit_space)\n",
    "plt.scatter(X,y)\n",
    "plt.plot(fit_space, y_fit,'k',linewidth=3)\n",
    "plt.plot(fit_space,[dna_thresh, dna_thresh],'r--',linewidth=2)\n",
    "plt.plot([culture_thresh, culture_thresh],[min(y),max(y)],'r--',linewidth=2)\n",
    "plt.xlabel('log10_culture')\n",
    "plt.ylabel('log10_dna')\n",
    "plt.title('E. coli test')\n",
    "plt.show()"
   ]
  },
  {
   "cell_type": "markdown",
   "metadata": {},
   "source": [
    "What does this plot tell us?\n",
    "\n",
    "First of all, the culture testing and dna testing techniques are positivily correlated with each other, following the fitted black line.\n",
    "\n",
    "Second, the culture testing gives more alarms than dna testing: the vertical dashed line is the threshold for culture testing readings: left to the line means the water is safe, right to the line means a swim advisory should be issued. Similarly, the horizontal line is the threshold for dna testing: below the line is save and above the line is unsafe. Therefore, bottom-left are safe results according to both tests, upper-right are unsafe results flagged by both, and upper-left are unsafe according to dna but missed by culture testing, and bottom-right are unsafe according to culture testing but not dna.\n",
    "\n",
    "In summary, using different testing techniques on the same water sample, DNA method will give 6.5% of the samples a red flag, whereas culture method alarm 23.4% of the samples. "
   ]
  },
  {
   "cell_type": "markdown",
   "metadata": {},
   "source": [
    "## Predicting swim advisories \n",
    "\n",
    "In the following section, I'll use historical available data to predict swim advisories at one beach. The Chi Hack Night has done an awesome project a comprehensive task last year. Check out: https://chihacknight.org/blog/2017/09/13/clear-water.html\n",
    "\n",
    "For my own practice, here I will use water and weather data since 2015, to predict whether a swim advisory will be issued at the Montrose beach in 2017 from day to day (a classification problem). The prediction performance will be measured by how accurate the red flags are issued according to the lab data in 2017. \n",
    "\n",
    "First, prepare the data set. Basically, I log-transform any feature that's severely right-skewed. I summarize hourly water and weather by calculating the mean and variance by day. Finally, I included columns that marks the weekday of the date.  "
   ]
  },
  {
   "cell_type": "code",
   "execution_count": 8,
   "metadata": {
    "collapsed": true
   },
   "outputs": [],
   "source": [
    "# target data y: Montrose beach, red flag: 1, safe: 0\n",
    "y = lab_df[(lab_df.beach=='Montrose')]\n",
    "y = y.dropna(subset=['dna_sample_timestamp'])\n",
    "y.index = pd.DatetimeIndex(y.dna_sample_timestamp).normalize()\n",
    "y = y.sort_index()\n",
    "y = np.log10(y.dna_reading_mean.astype(float))\n",
    "y = y.drop_duplicates()\n",
    "y_label = (y>dna_thresh).astype(int)\n",
    "\n",
    "# features we will use to predict y:\n",
    "# prepare hourly water data \n",
    "water_ft = water_df[['turbidity','water_temperature','wave_height','wave_period']][(water_df.index.year>=2015)&(water_df.beach_name=='Ohio Street Beach')]\n",
    "water_ft['log_turbidity'] = np.log10(water_ft.turbidity.astype(float)+1)\n",
    "water_ft.water_temperature = water_ft.water_temperature.astype(float)\n",
    "water_ft.wave_height = water_ft.wave_height.replace(to_replace='-99999.992', method='pad').astype(float)\n",
    "water_ft['log_wave_height'] = np.log10(water_ft.wave_height)\n",
    "water_ft.wave_period = water_ft.wave_period.replace(to_replace='-100000', method='pad').astype(float)\n",
    "# summarize within date\n",
    "water_ft = water_ft[['log_turbidity','water_temperature','log_wave_height','wave_period']]\n",
    "water_ft = water_ft.groupby(water_ft.index.date).mean().join(water_ft.groupby(water_ft.index.date).var(),lsuffix='_mean',rsuffix='_var')\n",
    "\n",
    "# prepare hourly weather data\n",
    "weather_ft = weather_df.drop(['battery_life','heading','precipitation_type','measurement_id','measurement_timestamp','measurement_timestamp_label','station_name'],axis=1).astype(float)\n",
    "weather_ft[['station_name']] = weather_df[['station_name']]\n",
    "weather_ft['log_interval_rain'] = np.log10(weather_ft.interval_rain+1)\n",
    "weather_ft['log_maximum_wind_speed'] = np.log10(weather_ft.maximum_wind_speed+1)\n",
    "weather_ft['log_rain_intensity'] = np.log10(weather_ft.rain_intensity+1)\n",
    "weather_ft['log_total_rain'] = np.log10(weather_ft.total_rain+1)\n",
    "weather_ft.wind_speed = weather_ft.wind_speed.replace(to_replace=999.9, method='pad')\n",
    "weather_ft['log_wind_speed'] = np.log10(weather_ft.wind_speed+1)\n",
    "weather_ft = weather_ft.drop(['interval_rain','maximum_wind_speed','rain_intensity','total_rain','wind_speed'],axis=1)\n",
    "# summarize within date\n",
    "temp_df = pd.DataFrame()\n",
    "for i in weather_ft.station_name.unique():\n",
    "    df = weather_ft[weather_ft.station_name==i]\n",
    "    temp_df = temp_df.join(df.groupby(df.index.date).mean(),how='outer',rsuffix='_mean_'+i)\n",
    "    temp_df = temp_df.join(df.groupby(df.index.date).var(),how='outer',rsuffix='_var_'+i)\n",
    "weather_ft = temp_df\n",
    "\n",
    "# preparing predictor X\n",
    "df = weather_ft\n",
    "df = df.join(y,how='right')\n",
    "df = df.join(water_ft,how='left')\n",
    "df = df.drop(['dna_reading_mean'],axis=1)\n",
    "X = df\n",
    "\n",
    "# add weekday variable \n",
    "X['weekday']=X.index.weekday_name\n",
    "X = pd.get_dummies(X)"
   ]
  },
  {
   "cell_type": "markdown",
   "metadata": {},
   "source": [
    "I choose neural netword algorithm from scikit-learn, and tune the hyper-parameters using grid search:"
   ]
  },
  {
   "cell_type": "code",
   "execution_count": null,
   "metadata": {},
   "outputs": [
    {
     "name": "stdout",
     "output_type": "stream",
     "text": [
      "Best hyper-parameter\n",
      "{'model__alpha': 0.10000000000000001}\n",
      "Classficiation report on test data from 2017:\n",
      "             precision    recall  f1-score   support\n",
      "\n",
      "          0       0.80      0.99      0.89        79\n",
      "          1       0.75      0.14      0.23        22\n",
      "\n",
      "avg / total       0.79      0.80      0.74       101\n",
      "\n",
      "Accuracy:0.80198019802\n"
     ]
    }
   ],
   "source": [
    "from sklearn.neural_network import MLPClassifier\n",
    "from sklearn.metrics import classification_report\n",
    "from sklearn.model_selection import GridSearchCV\n",
    "from sklearn.preprocessing import Imputer, StandardScaler\n",
    "from sklearn.pipeline import Pipeline\n",
    "\n",
    "test_year = 2017\n",
    "X_train = X[X.index.year<test_year]\n",
    "y_train = y_label[y_label.index.year<test_year]\n",
    "X_test = X[X.index.year==test_year]\n",
    "y_test = y_label[y_label.index.year==test_year]\n",
    "\n",
    "imp = Imputer(missing_values='NaN', strategy='median')\n",
    "steps = [('imputation', imp),\n",
    "         ('scaler',StandardScaler()),\n",
    "         ('model',MLPClassifier(solver='lbfgs', random_state=1))]\n",
    "pipeline = Pipeline(steps)\n",
    "parameters = {'model__alpha': np.logspace(-5,5,11)}\n",
    "cv = GridSearchCV(pipeline, param_grid=parameters, cv=10)\n",
    "cv.fit(X_train, y_train)\n",
    "print('Best hyper-parameter')\n",
    "print(cv.best_params_)\n",
    "print('Classficiation report on test data from 2017:')\n",
    "y_pred = cv.predict(X_test)\n",
    "print(classification_report(y_test,y_pred))\n",
    "print('Accuracy:'+str(np.mean(y_test==y_pred)))"
   ]
  },
  {
   "cell_type": "markdown",
   "metadata": {},
   "source": [
    "The classfication accuracy tested in 2017 season is 80%.\n",
    "However, this result comes from training the model on 181 data from 2015-2016 and testing on 101 data from 2017. In practice, as we moved into the 2017 season, we can re-train the model on all previous days and test it on the current day. Therefore we will have more training data to refine the model. When we train and test day by day in 2017, the model performs slightly better: "
   ]
  },
  {
   "cell_type": "code",
   "execution_count": null,
   "metadata": {},
   "outputs": [],
   "source": [
    "steps = [('imputation', imp),\n",
    "         ('scaler',StandardScaler()),\n",
    "         ('model',MLPClassifier(solver='lbfgs',random_state=1, \n",
    "                                alpha=cv.best_params_['model__alpha']))]\n",
    "pipeline = Pipeline(steps)\n",
    "y_pred = []\n",
    "for i in y_test.index.unique():\n",
    "    pipeline.fit(X_train,y_train)\n",
    "    X_test=X[X.index==i]\n",
    "    y_pred+=list(pipeline.predict(X_test))\n",
    "    X_train = pd.concat([X_train,X_test])\n",
    "    y_train = pd.concat([y_train,y_label[y_label.index==i]])\n",
    "print(classification_report(y_test,y_pred))\n",
    "print('Accuracy:'+str(np.mean(y_test==y_pred)))\n",
    "\n",
    "y_trace = y[y.index.year==test_year]\n",
    "plt.plot(y_trace)\n",
    "plt.plot(y_trace[np.equal(y_pred,1)&(y_test.values==1)],'go')\n",
    "plt.plot(y_trace[np.equal(y_pred,0)&(y_test.values==1)],'ro')\n",
    "plt.plot(y_trace[np.equal(y_pred,1)&(y_test.values==0)],'rx')\n",
    "plt.xticks(rotation=45)\n",
    "plt.ylabel('log10_dna_reading')\n",
    "plt.legend(['dna_reading','hit','miss','false alarm'],loc='center left', bbox_to_anchor=(1, 0.5))\n",
    "plt.show()"
   ]
  },
  {
   "cell_type": "markdown",
   "metadata": {},
   "source": [
    "To summarize: in the 2017 season, there are 22 days when the Montrose beach was tested as unsafe. Our neural network classifier identified 9 of them (41%, green dots) correctly, based only on water and weather sensor data. There are 6 days when the classifer issued a false alarm (red cross). The total accuracy is 81%."
   ]
  }
 ],
 "metadata": {
  "kernelspec": {
   "display_name": "Python 3",
   "language": "python",
   "name": "python3"
  },
  "language_info": {
   "codemirror_mode": {
    "name": "ipython",
    "version": 3
   },
   "file_extension": ".py",
   "mimetype": "text/x-python",
   "name": "python",
   "nbconvert_exporter": "python",
   "pygments_lexer": "ipython3",
   "version": "3.6.1"
  }
 },
 "nbformat": 4,
 "nbformat_minor": 2
}
