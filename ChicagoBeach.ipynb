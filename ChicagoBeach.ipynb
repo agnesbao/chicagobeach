{
 "cells": [
  {
   "cell_type": "markdown",
   "metadata": {
    "slideshow": {
     "slide_type": "slide"
    }
   },
   "source": [
    "# Chicago Beach E.coli Prediction in Python\n",
    "\n",
    "## A data science practice"
   ]
  },
  {
   "cell_type": "markdown",
   "metadata": {
    "slideshow": {
     "slide_type": "slide"
    }
   },
   "source": [
    "### Introduction\n",
    "Chicago has 27 public beaches, along 26 miles of the city's lakefront shoreline, managed by the Chicago Park District.\n",
    "<br> Here are the beach locations:\n",
    "![Chicago Beach Locations](https://github.com/agnesbao/chicagobeach/blob/master/Ecoli_test_locations.png?raw=true)"
   ]
  },
  {
   "cell_type": "markdown",
   "metadata": {
    "slideshow": {
     "slide_type": "slide"
    }
   },
   "source": [
    "The City of Chicago provides the public with beach water quality data and weather data hour by hour from several sensors during the summer. \n",
    "<br>The water quality data is available at https://data.cityofchicago.org/Parks-Recreation/Beach-Water-Quality-Automated-Sensors/qmqz-2xku. \n",
    "<br>The weather data is available at https://data.cityofchicago.org/Parks-Recreation/Beach-Weather-Stations-Automated-Sensors/k7hf-8y75."
   ]
  },
  {
   "cell_type": "markdown",
   "metadata": {
    "slideshow": {
     "slide_type": "slide"
    }
   },
   "source": [
    "Here are the locations of the water and weather sensors:\n",
    "![](https://github.com/agnesbao/chicagobeach/blob/master/sensor_locations.png?raw=true)"
   ]
  },
  {
   "cell_type": "markdown",
   "metadata": {
    "slideshow": {
     "slide_type": "slide"
    }
   },
   "source": [
    "Let's look at the water quality data first using the website's API."
   ]
  },
  {
   "cell_type": "code",
   "execution_count": 1,
   "metadata": {
    "collapsed": true,
    "slideshow": {
     "slide_type": "-"
    }
   },
   "outputs": [],
   "source": [
    "# import packages\n",
    "import requests\n",
    "import pandas as pd\n",
    "import numpy as np\n",
    "import matplotlib.pyplot as plt\n",
    "from scipy.stats import linregress\n",
    "\n",
    "# fetch data from API\n",
    "def request_data(url):\n",
    "    response = requests.get(url)\n",
    "    if response.status_code == 200:\n",
    "        data = response.json()\n",
    "    return pd.DataFrame(data)\n",
    "\n",
    "water_url = \"https://data.cityofchicago.org/resource/46rk-hgnz.json?$limit=50000\"\n",
    "water_df = request_data(water_url)\n",
    "water_df = water_df.dropna(subset=['measurement_timestamp'])"
   ]
  },
  {
   "cell_type": "markdown",
   "metadata": {
    "slideshow": {
     "slide_type": "slide"
    }
   },
   "source": [
    "The water sensor measures 'turbidity', which is the key measurement of water quality, higher number means the water is more cloudy. In addition, there is 'water_temperature, 'wave_height' and 'wave_period'.\n",
    "<br> The data starts from May 2014. \n",
    "<br> Let's look at which sensors are giving out readings each year."
   ]
  },
  {
   "cell_type": "code",
   "execution_count": 2,
   "metadata": {
    "scrolled": true,
    "slideshow": {
     "slide_type": "-"
    }
   },
   "outputs": [
    {
     "name": "stdout",
     "output_type": "stream",
     "text": [
      "2013: \n",
      "['Montrose Beach' 'Osterman Beach' 'Ohio Street Beach' 'Calumet Beach'\n",
      " '63rd Street Beach']\n",
      "2014: \n",
      "['Rainbow Beach' 'Montrose Beach' 'Calumet Beach' 'Ohio Street Beach'\n",
      " '63rd Street Beach' 'Osterman Beach']\n",
      "2015: \n",
      "['Rainbow Beach' 'Ohio Street Beach' '63rd Street Beach' 'Calumet Beach'\n",
      " 'Osterman Beach' 'Montrose Beach']\n",
      "2016: \n",
      "['Ohio Street Beach' 'Montrose Beach' 'Calumet Beach']\n",
      "2017: \n",
      "['Ohio Street Beach']\n",
      "2018: \n",
      "['Calumet Beach']\n"
     ]
    }
   ],
   "source": [
    "water_df.index = pd.DatetimeIndex(water_df.measurement_timestamp)\n",
    "water_df = water_df.sort_index()\n",
    "for yr in water_df.index.year.unique():\n",
    "    print(str(yr)+': ')\n",
    "    print(water_df.beach_name[water_df.index.year==yr].unique())"
   ]
  },
  {
   "cell_type": "markdown",
   "metadata": {
    "slideshow": {
     "slide_type": "skip"
    }
   },
   "source": [
    "Oh no, looks like the sensors are dying off. Only the one at Ohio Street Beach is still alive in 2017.\n",
    "\n",
    "How about the weather data? Are all weather sensors giving readings? Just repeat the same steps as the water data."
   ]
  },
  {
   "cell_type": "code",
   "execution_count": 3,
   "metadata": {
    "scrolled": true,
    "slideshow": {
     "slide_type": "skip"
    }
   },
   "outputs": [
    {
     "name": "stdout",
     "output_type": "stream",
     "text": [
      "2015: \n",
      "['63rd Street Weather Station' 'Oak Street Weather Station'\n",
      " 'Foster Weather Station']\n",
      "2016: \n",
      "['63rd Street Weather Station' 'Oak Street Weather Station'\n",
      " 'Foster Weather Station']\n",
      "2017: \n",
      "['63rd Street Weather Station' 'Oak Street Weather Station'\n",
      " 'Foster Weather Station']\n",
      "2018: \n",
      "['63rd Street Weather Station' 'Oak Street Weather Station'\n",
      " 'Foster Weather Station']\n"
     ]
    }
   ],
   "source": [
    "weather_url = 'https://data.cityofchicago.org/resource/77jv-5zb8.json?$limit=100000'\n",
    "weather_df = request_data(weather_url)\n",
    "weather_df = weather_df.dropna(subset=['measurement_timestamp'])\n",
    "\n",
    "weather_df.index=pd.DatetimeIndex(weather_df.measurement_timestamp)\n",
    "weather_df = weather_df.sort_index()\n",
    "for yr in weather_df.index.year.unique():\n",
    "    print(str(yr)+': ')\n",
    "    print(weather_df.station_name[weather_df.index.year==yr].unique())"
   ]
  },
  {
   "cell_type": "markdown",
   "metadata": {
    "collapsed": true,
    "slideshow": {
     "slide_type": "slide"
    }
   },
   "source": [
    "In order to monitor swimming safety, the city also tests for E.coli level in the water from all 27 beach locations. \n",
    "<br>The E.coli lab data is available here: https://data.cityofchicago.org/Parks-Recreation/Beach-Lab-Data/2ivx-z93u\n",
    "<br>Let's get the lab data."
   ]
  },
  {
   "cell_type": "code",
   "execution_count": 4,
   "metadata": {
    "collapsed": true,
    "scrolled": true,
    "slideshow": {
     "slide_type": "-"
    }
   },
   "outputs": [],
   "source": [
    "lab_url = \"https://data.cityofchicago.org/resource/awhh-mb2r.json?$limit=50000\"\n",
    "lab_df = request_data(lab_url)\n",
    "# some dates show the year as 0016, which should be 2016\n",
    "def fix_date(date_str):\n",
    "    try:\n",
    "        return date_str.replace('0016','2016')\n",
    "    except:\n",
    "        return None\n",
    "lab_df.culture_sample_1_timestamp = lab_df.culture_sample_1_timestamp.apply(fix_date)"
   ]
  },
  {
   "cell_type": "markdown",
   "metadata": {
    "slideshow": {
     "slide_type": "slide"
    }
   },
   "source": [
    "### Monitor E.coli level: culture testing vs. DNA testing\n",
    "This dataset contains readings from two E.coli testing techniques. From 2006-2016 the city was using culture-based testing, a slow technique which takes 18-24hrs.  Since 2015 they gradually started DNA testing at several beaches, which only takes a few hours, but is more expensive. All beaches had culture reading untill 2016. In 2017 all tests switched to DNA testing. \n",
    "<br> In the data set there are 675 samples that were tested with both techniques. We can use those data to see whether the two techniques are consistent with each other."
   ]
  },
  {
   "cell_type": "code",
   "execution_count": 5,
   "metadata": {
    "scrolled": true,
    "slideshow": {
     "slide_type": "slide"
    }
   },
   "outputs": [
    {
     "data": {
      "image/png": "[encoded data removed]",
      "text/plain": [
       "<matplotlib.figure.Figure at 0x6914860>"
      ]
     },
     "metadata": {},
     "output_type": "display_data"
    },
    {
     "name": "stdout",
     "output_type": "stream",
     "text": [
      "correlation: r=0.6493656610456776; p=4.4164989591122e-82\n"
     ]
    }
   ],
   "source": [
    "# dataset with both culture and dna\n",
    "culture_dna = lab_df.dropna(subset=['dna_reading_mean','culture_reading_mean'])\n",
    "# log-transform readings, as the distribution is right-skewered\n",
    "culture_reading = np.log10(culture_dna.culture_reading_mean.astype(float))\n",
    "dna_reading = np.log10(culture_dna.dna_reading_mean.astype(float))\n",
    "# threshold for swim advisory \n",
    "culture_thresh = np.log10(235)\n",
    "dna_thresh = np.log10(1000)\n",
    "# calculate the correlation between culture test and dna test\n",
    "slope, intercept, r_value, p_value, std_err = linregress(culture_reading, dna_reading)\n",
    "# plot the relationship between the two testings\n",
    "plt.scatter(culture_reading,dna_reading)\n",
    "plt.plot(culture_reading, slope*culture_reading+intercept,'k',linewidth=3)\n",
    "plt.plot([min(culture_reading),max(culture_reading)],[dna_thresh, dna_thresh],'r--',linewidth=2)\n",
    "plt.plot([culture_thresh, culture_thresh],[min(dna_reading),max(dna_reading)],'r--',linewidth=2)\n",
    "plt.xlabel('log10_culture')\n",
    "plt.ylabel('log10_dna')\n",
    "plt.title('E. coli test')\n",
    "plt.show()\n",
    "print('correlation: r='+str(r_value)+'; p='+str(p_value))"
   ]
  },
  {
   "cell_type": "markdown",
   "metadata": {
    "slideshow": {
     "slide_type": "skip"
    }
   },
   "source": [
    "What does this plot tell us?\n",
    "\n",
    "First, the culture testing and dna testing techniques are positivily correlated with each other, following the fitted black line.\n",
    "\n",
    "Second, the culture testing gives more alarms than the dna testing: the vertical dashed line is the threshold for culture testing readings: left to the line means the water is safe, right to the line means a swim advisory should be issued. Similarly, the horizontal line is the threshold for dna testing: below the line is safe and above the line is unsafe. Therefore, bottom-left are safe results according to both techniques, upper-right are unsafe results flagged by both, and upper-left are unsafe according to dna but missed by culture testing, and bottom-right are unsafe according to culture but not dna testing.\n",
    "\n",
    "In summary, using different testing techniques on the same water sample, DNA method gives 6.5% of the samples a red flag, whereas culture method alarms 23.4% of the samples. "
   ]
  },
  {
   "cell_type": "markdown",
   "metadata": {
    "slideshow": {
     "slide_type": "slide"
    }
   },
   "source": [
    "### Predicting swim advisories at Montrose Beach\n",
    "\n",
    "In the following section, I will use machine learning to predict swim advisories at one beach. The Chi Hack Night has done an awesome project on a similar function last year. Check out: https://chihacknight.org/blog/2017/09/13/clear-water.html\n",
    "\n",
    "Currently, swim advisories are issued according to the daily lab data. Since dna testing is expensive, it would be economical if we can use wather and weather data to predict swim advisories, and reduce the frequency of lab testing.\n",
    "\n",
    "For my own practice, I will use water and weather data from 2015 and 2016 to train a classifier model, and test how accurate a swim advisory is issued at Montrose Beach based on the lab data. I will hold out 2017 data as the validation set to test the model performance. \n",
    "\n",
    "First, prepare the data set. Basically, I log-transformed any feature that's right-skewed. I summarized hourly water and weather data by calculating the mean and variance of the day. Finally, I included columns that marks the weekday of the date.  "
   ]
  },
  {
   "cell_type": "code",
   "execution_count": 6,
   "metadata": {
    "collapsed": true,
    "slideshow": {
     "slide_type": "skip"
    }
   },
   "outputs": [],
   "source": [
    "# target data y: Montrose beach, red flag: 1, safe: 0\n",
    "y = lab_df[(lab_df.beach=='Montrose')]\n",
    "y = y.dropna(subset=['dna_sample_timestamp'])\n",
    "y.index = pd.DatetimeIndex(y.dna_sample_timestamp).normalize()\n",
    "y = y.sort_index()\n",
    "y = np.log10(y.dna_reading_mean.astype(float))\n",
    "y = y.drop_duplicates()\n",
    "y_label = (y>dna_thresh).astype(int)\n",
    "\n",
    "# features we will use to predict y:\n",
    "# prepare hourly water data \n",
    "water_ft = water_df[['turbidity','water_temperature','wave_height','wave_period']][(water_df.index.year>=2015)&(water_df.beach_name=='Ohio Street Beach')]\n",
    "water_ft['log_turbidity'] = np.log10(water_ft.turbidity.astype(float)+1)\n",
    "water_ft.water_temperature = water_ft.water_temperature.astype(float)\n",
    "water_ft.wave_height = water_ft.wave_height.replace(to_replace='-99999.992', method='pad').astype(float)\n",
    "water_ft['log_wave_height'] = np.log10(water_ft.wave_height)\n",
    "water_ft.wave_period = water_ft.wave_period.replace(to_replace='-100000', method='pad').astype(float)\n",
    "# summarize within date\n",
    "water_ft = water_ft[['log_turbidity','water_temperature','log_wave_height','wave_period']]\n",
    "water_ft = water_ft.groupby(water_ft.index.date).mean().join(water_ft.groupby(water_ft.index.date).var(),lsuffix='_mean',rsuffix='_var')\n",
    "\n",
    "# prepare hourly weather data\n",
    "weather_ft = weather_df.drop(['battery_life','measurement_id','measurement_timestamp','measurement_timestamp_label','station_name','precipitation_type','heading'],axis=1).astype(float)\n",
    "weather_ft[['station_name']] = weather_df[['station_name']]\n",
    "weather_ft['log_interval_rain'] = np.log10(weather_ft.interval_rain+1)\n",
    "weather_ft['log_maximum_wind_speed'] = np.log10(weather_ft.maximum_wind_speed+1)\n",
    "weather_ft['log_rain_intensity'] = np.log10(weather_ft.rain_intensity+1)\n",
    "weather_ft['log_total_rain'] = np.log10(weather_ft.total_rain+1)\n",
    "weather_ft.wind_speed = weather_ft.wind_speed.replace(to_replace=999.9, method='pad')\n",
    "weather_ft['log_wind_speed'] = np.log10(weather_ft.wind_speed+1)\n",
    "weather_ft = weather_ft.drop(['interval_rain','maximum_wind_speed','rain_intensity','total_rain','wind_speed'],axis=1)\n",
    "# summarize within date\n",
    "temp_df = pd.DataFrame()\n",
    "for i in weather_ft.station_name.unique():\n",
    "    df = weather_ft[weather_ft.station_name==i]\n",
    "    temp_df = temp_df.join(df.resample('D').mean(),how='outer',rsuffix='_mean_'+i)\n",
    "    temp_df = temp_df.join(df.resample('D').var(),how='outer',rsuffix='_var_'+i)\n",
    "weather_ft = temp_df\n",
    "\n",
    "# preparing predictor X\n",
    "df = weather_ft\n",
    "df = df.join(y,how='right')\n",
    "df = df.join(water_ft,how='left')\n",
    "df = df.drop(['dna_reading_mean'],axis=1)\n",
    "X = df\n",
    "\n",
    "# add weekday variable \n",
    "X['weekday']=X.index.weekday_name\n",
    "X = pd.get_dummies(X)"
   ]
  },
  {
   "cell_type": "markdown",
   "metadata": {
    "slideshow": {
     "slide_type": "slide"
    }
   },
   "source": [
    "First of all, which machine learning model to use?"
   ]
  },
  {
   "cell_type": "code",
   "execution_count": 7,
   "metadata": {
    "collapsed": true,
    "slideshow": {
     "slide_type": "skip"
    }
   },
   "outputs": [],
   "source": [
    "from sklearn.neural_network import MLPClassifier\n",
    "from sklearn.neighbors import KNeighborsClassifier\n",
    "from sklearn.svm import SVC\n",
    "from sklearn.ensemble import RandomForestClassifier\n",
    "from sklearn.naive_bayes import GaussianNB\n",
    "from sklearn.linear_model import LogisticRegression\n",
    "from sklearn.metrics import classification_report\n",
    "from sklearn.model_selection import cross_val_score, GridSearchCV\n",
    "from sklearn.preprocessing import Imputer, StandardScaler\n",
    "from sklearn.pipeline import Pipeline\n",
    "\n",
    "test_year = 2017\n",
    "X_train = X[X.index.year<test_year]\n",
    "y_train = y_label[y_label.index.year<test_year]\n",
    "X_test = X[X.index.year==test_year]\n",
    "y_test = y_label[y_label.index.year==test_year]"
   ]
  },
  {
   "cell_type": "code",
   "execution_count": 8,
   "metadata": {
    "scrolled": true,
    "slideshow": {
     "slide_type": "-"
    }
   },
   "outputs": [
    {
     "name": "stdout",
     "output_type": "stream",
     "text": [
      "Neural Net  accuracy: 0.8324561403508771  recall: 0.38888888888888884\n",
      "Nearest Neighbors  accuracy: 0.9070175438596492  recall: 0.0\n",
      "SVM  accuracy: 0.9070175438596492  recall: 0.0\n",
      "Random Forest  accuracy: 0.8986842105263158  recall: 0.0\n",
      "Naive Bayes  accuracy: 0.6346491228070176  recall: 0.3333333333333333\n",
      "Logistic Regression  accuracy: 0.7736842105263158  recall: 0.47222222222222215\n"
     ]
    }
   ],
   "source": [
    "# model selection\n",
    "modelnamelist = ['Neural Net','Nearest Neighbors','SVM','Random Forest','Naive Bayes','Logistic Regression']\n",
    "modellist = [MLPClassifier(solver='lbfgs'),KNeighborsClassifier(),SVC(),RandomForestClassifier(),GaussianNB(),LogisticRegression()]\n",
    "for name, model in zip(modelnamelist,modellist):\n",
    "    imp = Imputer(missing_values='NaN', strategy='median')\n",
    "    steps = [('imputation', imp),\n",
    "             ('scaler',StandardScaler()),\n",
    "             ('model',model)]\n",
    "    pipeline = Pipeline(steps)\n",
    "    accuracy = cross_val_score(pipeline, X_train, y_train)\n",
    "    recall = cross_val_score(pipeline, X_train, y_train, scoring='recall')\n",
    "    print(name, ' accuracy:', accuracy.mean(), ' recall:', recall.mean())"
   ]
  },
  {
   "cell_type": "markdown",
   "metadata": {
    "slideshow": {
     "slide_type": "slide"
    }
   },
   "source": [
    "Seems logistic regression has the best performance on recall. \n",
    "Step 2, we can tune the hyper-parameters using grid search:"
   ]
  },
  {
   "cell_type": "code",
   "execution_count": 9,
   "metadata": {
    "slideshow": {
     "slide_type": "-"
    }
   },
   "outputs": [
    {
     "name": "stdout",
     "output_type": "stream",
     "text": [
      "Best hyper-parameter\n",
      "{'model__C': 1e-10}\n",
      "Classficiation report on test data from 2017:\n",
      "             precision    recall  f1-score   support\n",
      "\n",
      "          0       0.86      0.94      0.90        79\n",
      "          1       0.67      0.45      0.54        22\n",
      "\n",
      "avg / total       0.82      0.83      0.82       101\n",
      "\n",
      "Accuracy:0.8316831683168316\n"
     ]
    }
   ],
   "source": [
    "# Hyperparameter tuning \n",
    "steps = [('imputation', imp),\n",
    "         ('scaler',StandardScaler()),\n",
    "         ('model',LogisticRegression())]\n",
    "pipeline = Pipeline(steps)\n",
    "parameters = {'model__C': np.logspace(-10,10,11)}\n",
    "cv = GridSearchCV(pipeline, param_grid=parameters, scoring='recall')\n",
    "cv.fit(X_train, y_train)\n",
    "print('Best hyper-parameter')\n",
    "print(cv.best_params_)\n",
    "print('Classficiation report on test data from 2017:')\n",
    "y_pred = cv.predict(X_test)\n",
    "print(classification_report(y_test,y_pred))\n",
    "print('Accuracy:'+str(np.mean(y_test==y_pred)))"
   ]
  },
  {
   "cell_type": "code",
   "execution_count": 10,
   "metadata": {
    "slideshow": {
     "slide_type": "skip"
    }
   },
   "outputs": [
    {
     "data": {
      "text/plain": [
       "<matplotlib.legend.Legend at 0x19a12470>"
      ]
     },
     "execution_count": 10,
     "metadata": {},
     "output_type": "execute_result"
    }
   ],
   "source": [
    "y_trace = y[y.index.year==test_year]\n",
    "plt.plot(y_trace)\n",
    "plt.plot(y_trace[np.equal(y_pred,1)&(y_test.values==1)],'go')\n",
    "plt.plot(y_trace[np.equal(y_pred,0)&(y_test.values==1)],'ro')\n",
    "plt.plot(y_trace[np.equal(y_pred,1)&(y_test.values==0)],'rx')\n",
    "plt.xticks(rotation=45)\n",
    "plt.ylabel('log10_dna_reading')\n",
    "plt.legend(['dna_reading','hit','miss','false alarm'],loc='center left', bbox_to_anchor=(1, 0.5))"
   ]
  },
  {
   "cell_type": "code",
   "execution_count": 11,
   "metadata": {
    "slideshow": {
     "slide_type": "slide"
    }
   },
   "outputs": [
    {
     "data": {
      "image/png": "[encoded data removed]",
      "text/plain": [
       "<matplotlib.figure.Figure at 0x19a122e8>"
      ]
     },
     "metadata": {},
     "output_type": "display_data"
    }
   ],
   "source": [
    "plt.show()"
   ]
  },
  {
   "cell_type": "markdown",
   "metadata": {
    "slideshow": {
     "slide_type": "-"
    }
   },
   "source": [
    "To summarize: in the 2017 season, there are 22 days when the Montrose beach was tested as unsafe. My logistic regression classifier identified 10 of them (45%, green dots) correctly, based only on water and weather sensor data. There are 5 days when the classifer issued a false alarm (red cross). The total accuracy is 83%."
   ]
  },
  {
   "cell_type": "code",
   "execution_count": 12,
   "metadata": {
    "slideshow": {
     "slide_type": "slide"
    }
   },
   "outputs": [
    {
     "name": "stdout",
     "output_type": "stream",
     "text": [
      "Top 10 important features:\n",
      "air_temperature_var_63rd Street Weather Station           8.619793e-10\n",
      "air_temperature_var_Oak Street Weather Station            8.589872e-10\n",
      "log_maximum_wind_speed_var_63rd Street Weather Station    8.029878e-10\n",
      "log_rain_intensity_mean_Foster Weather Station            7.888092e-10\n",
      "wind_direction_mean_Foster Weather Station                7.563153e-10\n",
      "log_rain_intensity_var_63rd Street Weather Station        6.792798e-10\n",
      "humidity_var_Foster Weather Station                       6.742172e-10\n",
      "log_rain_intensity_mean_Oak Street Weather Station        6.732144e-10\n",
      "log_interval_rain_var_Oak Street Weather Station          6.626513e-10\n",
      "log_interval_rain_mean_Oak Street Weather Station         6.606774e-10\n",
      "dtype: float64\n"
     ]
    }
   ],
   "source": [
    "coef = cv.best_estimator_.steps[2][1].coef_.squeeze()\n",
    "coef_rank = np.argsort(abs(coef))\n",
    "print('Top 10 important features:')\n",
    "print(pd.Series(coef[coef_rank[-10:]], index=X.columns[coef_rank[-10:]]).sort_values(ascending=False))"
   ]
  }
 ],
 "metadata": {
  "kernelspec": {
   "display_name": "Python 3",
   "language": "python",
   "name": "python3"
  },
  "language_info": {
   "codemirror_mode": {
    "name": "ipython",
    "version": 3
   },
   "file_extension": ".py",
   "mimetype": "text/x-python",
   "name": "python",
   "nbconvert_exporter": "python",
   "pygments_lexer": "ipython3",
   "version": "3.6.3"
  }
 },
 "nbformat": 4,
 "nbformat_minor": 2
}
